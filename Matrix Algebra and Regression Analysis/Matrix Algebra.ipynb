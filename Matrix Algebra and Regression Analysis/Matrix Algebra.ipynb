{
 "cells": [
  {
   "cell_type": "markdown",
   "metadata": {},
   "source": [
    "# Part 1: Matrix Algebra with Python "
   ]
  },
  {
   "cell_type": "code",
   "execution_count": 1,
   "metadata": {},
   "outputs": [],
   "source": [
    "import numpy as np \n",
    "import os\n",
    "# os.chdir('C:/Users/User/Desktop/BUS 705 - Statistics and Programming for BA/HW/Final Project')"
   ]
  },
  {
   "cell_type": "code",
   "execution_count": 2,
   "metadata": {},
   "outputs": [
    {
     "name": "stdout",
     "output_type": "stream",
     "text": [
      "[[1 2 0]\n",
      " [1 0 3]\n",
      " [0 0 8]]\n"
     ]
    }
   ],
   "source": [
    "# 1-1. Input the matrix A\n",
    "A = np.array([[1, 2, 0], [1, 0, 3], [0, 0, 8]])\n",
    "print(A)"
   ]
  },
  {
   "cell_type": "code",
   "execution_count": 3,
   "metadata": {},
   "outputs": [
    {
     "name": "stdout",
     "output_type": "stream",
     "text": [
      "The determinant of A: -16.00 \n",
      "A is invertible.\n"
     ]
    }
   ],
   "source": [
    "# 1-2. Determine the determinant of A. Is A invertible? If so, determine the inverse. What's the determinant of the inverse?\n",
    "# The determinant of A: -16 -> A is invertible.\n",
    "print (\"The determinant of A: %.2f \" % np.linalg.det(A)) \n",
    "print (\"A is invertible.\")"
   ]
  },
  {
   "cell_type": "code",
   "execution_count": 4,
   "metadata": {},
   "outputs": [
    {
     "name": "stdout",
     "output_type": "stream",
     "text": [
      "The inverse of A : \n",
      "[[ 0.      1.     -0.375 ]\n",
      " [ 0.5    -0.5     0.1875]\n",
      " [ 0.      0.      0.125 ]]\n"
     ]
    }
   ],
   "source": [
    "# Inverse A\n",
    "A_inv = np.linalg.inv(A)\n",
    "print(\"The inverse of A : \")\n",
    "print(A_inv)"
   ]
  },
  {
   "cell_type": "code",
   "execution_count": 5,
   "metadata": {},
   "outputs": [
    {
     "name": "stdout",
     "output_type": "stream",
     "text": [
      "The determinant of the inverse: -0.0625\n"
     ]
    }
   ],
   "source": [
    "# The determinant of the inverse: -0.0625\n",
    "print (\"The determinant of the inverse:\" , np.linalg.det(A_inv))"
   ]
  },
  {
   "cell_type": "code",
   "execution_count": 6,
   "metadata": {},
   "outputs": [
    {
     "name": "stdout",
     "output_type": "stream",
     "text": [
      "Matrix X: \n",
      "[[ 2  2  3]\n",
      " [ 2  4  0]\n",
      " [ 3  0 73]]\n",
      "\n",
      "X is positive definite.\n"
     ]
    }
   ],
   "source": [
    "# 1-3. Calculate X = A'A. Is X positive definite? \n",
    "A_trans = A.transpose()\n",
    "X = np.dot(A_trans, A) \n",
    "print(\"Matrix X: \")\n",
    "print(X)     \n",
    "\n",
    "# Check whether all eigenvalues are positive\n",
    "if np.all(np.linalg.eigvals(X)) > 0:\n",
    "    print(\"\\nX is positive definite.\")   # X is positive definite.\n",
    "else:\n",
    "    print(\"\\nX is not positive definite.\") "
   ]
  },
  {
   "cell_type": "code",
   "execution_count": 7,
   "metadata": {},
   "outputs": [
    {
     "name": "stdout",
     "output_type": "stream",
     "text": [
      "Cholesky decomposition of X: \n",
      "[[ 1.41421356  0.          0.        ]\n",
      " [ 1.41421356  1.41421356  0.        ]\n",
      " [ 2.12132034 -2.12132034  8.        ]]\n"
     ]
    }
   ],
   "source": [
    "# 1-4. Determine the Cholesky decomposition of X.\n",
    "print(\"Cholesky decomposition of X: \")\n",
    "print(np.linalg.cholesky(X)) # lower-triangular Cholesky factor "
   ]
  },
  {
   "cell_type": "code",
   "execution_count": 8,
   "metadata": {},
   "outputs": [
    {
     "name": "stdout",
     "output_type": "stream",
     "text": [
      "Eigenvalues: \n",
      "[73.1266379  0.673206   5.2001561]\n",
      "\n",
      "Eigenvectors: \n",
      "[[-0.04217504 -0.85650564 -0.51441166]\n",
      " [-0.00122023  0.51491354 -0.85724125]\n",
      " [-0.99910949  0.03552649  0.02276163]]\n"
     ]
    }
   ],
   "source": [
    "# 1-5. Determine the eigenvalues and eigenvectors of X and show the matrix-diagonalized form of X.\n",
    "EValue, EVector = np.linalg.eig(X)\n",
    "print(\"Eigenvalues: \")\n",
    "print(EValue)     # eigenvalues\n",
    "print(\"\\nEigenvectors: \")\n",
    "print(EVector)    # eigenvectors"
   ]
  },
  {
   "cell_type": "code",
   "execution_count": 9,
   "metadata": {},
   "outputs": [
    {
     "name": "stdout",
     "output_type": "stream",
     "text": [
      "The matrix-diagonalized form of X: \n",
      "[[73.1266379  0.         0.       ]\n",
      " [ 0.         0.673206   0.       ]\n",
      " [ 0.         0.         5.2001561]]\n"
     ]
    }
   ],
   "source": [
    "# The matrix-diagonalized form of X\n",
    "D = np.diag(EValue)   # EVector.dot(D).dot(EVector.transpose()) = X\n",
    "print(\"The matrix-diagonalized form of X: \")\n",
    "print(D)"
   ]
  },
  {
   "cell_type": "code",
   "execution_count": null,
   "metadata": {},
   "outputs": [],
   "source": []
  }
 ],
 "metadata": {
  "kernelspec": {
   "display_name": "Python 3",
   "language": "python",
   "name": "python3"
  },
  "language_info": {
   "codemirror_mode": {
    "name": "ipython",
    "version": 3
   },
   "file_extension": ".py",
   "mimetype": "text/x-python",
   "name": "python",
   "nbconvert_exporter": "python",
   "pygments_lexer": "ipython3",
   "version": "3.8.3"
  }
 },
 "nbformat": 4,
 "nbformat_minor": 4
}
